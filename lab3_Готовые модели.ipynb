{
 "cells": [
  {
   "cell_type": "markdown",
   "id": "3085ec43-34bb-4afb-9515-517e0489db3e",
   "metadata": {},
   "source": [
    "## Классические алгоритмы без ансамблирования\n",
    "В этом ноутбуке вам нужно обучить модели на датасете классификации из предыдущего ноутбука и сравнить результаты. Вам будет предоставлен baseline, на основе которого вы будете доделывать предсказывающие модели. Оценка лабы будет зависеть от ROC-AUC на тестовых данных по следующим критериям:\n",
    "\\\n",
    "AUC - на тестовых данных\n",
    "- $AUC \\leq 0.75$ - 0 баллов\n",
    "- $0.75 < AUC \\leq 0.76$ - 2 балла\n",
    "- $0.76 < AUC \\leq 0.77$ - 4 балла\n",
    "- $0.77 < AUC \\leq 0.78$ - 6 баллов\n",
    "- $0.78 < AUC \\leq 0.79$ - 8 баллов\n",
    "- $AUC > 0.79$ - 10 баллов\n",
    "\n",
    "\\\n",
    "В этой работе запрещено использовать ансамбли моделей (лес, бустинги и т.д.)!"
   ]
  },
  {
   "cell_type": "code",
   "execution_count": 23,
   "id": "ec07e3a2-480a-4350-868e-02679ff2aada",
   "metadata": {},
   "outputs": [],
   "source": [
    "from sklearn.linear_model import LogisticRegression\n",
    "from sklearn.tree import DecisionTreeClassifier\n",
    "from sklearn.neighbors import KNeighborsClassifier\n",
    "from sklearn.model_selection import RandomizedSearchCV # для оптимизации гиперпараметров\n",
    "from sklearn.pipeline import Pipeline #\n",
    "from sklearn import tree\n",
    "from sklearn import decomposition, datasets\n",
    "from sklearn.model_selection import RepeatedStratifiedKFold\n",
    "from sklearn.model_selection import GridSearchCV\n",
    "from sklearn.preprocessing import StandardScaler\n",
    "from scipy.stats import randint\n",
    "\n",
    "from sklearn.metrics import roc_auc_score, precision_score, recall_score, roc_curve, accuracy_score\n",
    "\n",
    "from sklearn.model_selection import train_test_split\n",
    "\n",
    "import matplotlib.pyplot as plt\n",
    "import pandas as pd\n",
    "import numpy as np"
   ]
  },
  {
   "cell_type": "code",
   "execution_count": 24,
   "id": "563ad31b-5c83-4366-819a-34dad4edecdc",
   "metadata": {},
   "outputs": [
    {
     "name": "stdout",
     "output_type": "stream",
     "text": [
      "   Creditability  Account_Balance  Duration_of_Credit_monthly  \\\n",
      "0              1                1                          18   \n",
      "1              1                1                           9   \n",
      "2              1                2                          12   \n",
      "3              1                1                          12   \n",
      "4              1                1                          12   \n",
      "\n",
      "   Payment_Status_of_Previous_Credit  Purpose  Credit_Amount  \\\n",
      "0                                  4        2           1049   \n",
      "1                                  4        0           2799   \n",
      "2                                  2        9            841   \n",
      "3                                  4        0           2122   \n",
      "4                                  4        0           2171   \n",
      "\n",
      "   Value_Savings_Stocks  Length_of_current_employment  Instalment_per_cent  \\\n",
      "0                     1                             2                    4   \n",
      "1                     1                             3                    2   \n",
      "2                     2                             4                    2   \n",
      "3                     1                             3                    3   \n",
      "4                     1                             3                    4   \n",
      "\n",
      "   Sex_Marital_Status  ...  Duration_in_Current_address  \\\n",
      "0                   2  ...                            4   \n",
      "1                   3  ...                            2   \n",
      "2                   2  ...                            4   \n",
      "3                   3  ...                            2   \n",
      "4                   3  ...                            4   \n",
      "\n",
      "   Most_valuable_available_asset  Age_years  Concurrent_Credits  \\\n",
      "0                              2         21                   3   \n",
      "1                              1         36                   3   \n",
      "2                              1         23                   3   \n",
      "3                              1         39                   3   \n",
      "4                              2         38                   1   \n",
      "\n",
      "   Type_of_apartment  No_of_Credits_at_this_Bank  Occupation  \\\n",
      "0                  1                           1           3   \n",
      "1                  1                           2           3   \n",
      "2                  1                           1           2   \n",
      "3                  1                           2           2   \n",
      "4                  2                           2           2   \n",
      "\n",
      "   No_of_dependents  Telephone  Foreign_Worker  \n",
      "0                 1          1               1  \n",
      "1                 2          1               1  \n",
      "2                 1          1               1  \n",
      "3                 2          1               2  \n",
      "4                 1          1               2  \n",
      "\n",
      "[5 rows x 21 columns]\n"
     ]
    }
   ],
   "source": [
    "data = pd.read_csv('german.csv', sep=';')\n",
    "print(data.head())\n",
    "\n",
    "X = data.iloc[:, 1:].to_numpy()\n",
    "y = data.iloc[:, 0].to_numpy()\n",
    "\n",
    "X_train, X_test, y_train, y_test = train_test_split(X, y, test_size=0.2, random_state=20)"
   ]
  },
  {
   "cell_type": "code",
   "execution_count": 25,
   "id": "f93737ec-e5eb-4d72-8beb-5dba4d4c581f",
   "metadata": {},
   "outputs": [
    {
     "data": {
      "image/png": "[encoded data removed]",
      "text/plain": [
       "<Figure size 640x480 with 1 Axes>"
      ]
     },
     "metadata": {},
     "output_type": "display_data"
    }
   ],
   "source": [
    "plt.hist(y_train, bins=2, edgecolor='k')\n",
    "plt.xticks([0, 1])\n",
    "plt.xlabel('Class (0: Non-Creditworthy, 1: Creditworthy)')\n",
    "plt.ylabel('Count')\n",
    "plt.title('Distribution of Classes in Training Data')\n",
    "plt.show()"
   ]
  },
  {
   "cell_type": "code",
   "execution_count": 28,
   "id": "1ccf0690-1d07-4026-85f2-674c5688d4d0",
   "metadata": {},
   "outputs": [],
   "source": [
    "# Создание модели логической регрессии и определение грид-парамов\n",
    "logistic_regression_model = LogisticRegression()\n",
    "solvers = ['newton-cg', 'lbfgs', 'liblinear']\n",
    "penalty = ['l2']\n",
    "c_values = [100, 10, 1.0, 0.1, 0.01]\n",
    "grid = dict(solver=solvers, penalty=penalty, C=c_values)\n",
    "cv = RepeatedStratifiedKFold(n_splits=10, n_repeats=3, random_state=1)\n",
    "\n",
    "logistic_regression_model_random = GridSearchCV(estimator=logistic_regression_model, param_grid=grid, n_jobs=-1, cv=cv, scoring='accuracy', error_score=0)\n",
    "\n",
    "\n",
    "# Создание объекта логической регрессионной модели\n",
    "logistic_regression_model = logistic_regression_model_random.fit(X_train, y_train)#Обучение\n",
    "\n",
    "# Создание решающего дерева\n",
    "decision_tree_model = DecisionTreeClassifier()\n",
    "\n",
    "\n",
    "parameters = {\n",
    "'criterion': ['gini', 'entropy'],\n",
    "'max_depth': [None, 5, 10, 15],\n",
    "'min_samples_split': [2, 5, 10],\n",
    "'min_samples_leaf': [1, 2, 4]\n",
    "}\n",
    "\n",
    "# Поиск по сетке, используя кросс-валидацию\n",
    "grid_search = GridSearchCV(decision_tree_model, parameters, cv=5)\n",
    "decision_tree_model = grid_search.fit(X, y)\n",
    "\n",
    "\n",
    "# Создание модели KNN\n",
    "knn_model = KNeighborsClassifier()\n",
    "pipeline = Pipeline([\n",
    "('scaler', StandardScaler()),\n",
    "('knn', knn_model)\n",
    "])\n",
    "\n",
    "# параметры для грида\n",
    "parameters = {\n",
    "'knn__n_neighbors': [3, 5, 7, 9],\n",
    "'knn__weights': ['uniform', 'distance'],\n",
    "'knn__p': [1, 2]\n",
    "}\n",
    "\n",
    "# Поиск по сетке, используя кросс-валидацию\n",
    "grid_search = GridSearchCV(pipeline, parameters, cv=5)\n",
    "knn_model = grid_search.fit(X, y)"
   ]
  },
  {
   "cell_type": "code",
   "execution_count": 29,
   "id": "c2ebd8b0-3f81-4365-9f84-44bf50bbcbe4",
   "metadata": {},
   "outputs": [
    {
     "name": "stdout",
     "output_type": "stream",
     "text": [
      "Accuracy of Logistic Regression: 0.79\n",
      "Accuracy of Decision Tree: 0.815\n",
      "Accuracy of K-Nearest Neighbors: 0.81\n",
      "ROC AUC of Logistic Regression: 0.7983570786805287\n",
      "ROC AUC of Decision Tree: 0.8732511872673597\n",
      "ROC AUC of K-Nearest Neighbors: 0.8464895392119112\n",
      "Precision of Logistic Regression: 0.8387096774193549\n",
      "Precision of Decision Tree: 0.8666666666666667\n",
      "Precision of K-Nearest Neighbors: 0.8263473053892215\n",
      "Recall of Logistic Regression: 0.8843537414965986\n",
      "Recall of Decision Tree: 0.8843537414965986\n",
      "Recall of K-Nearest Neighbors: 0.9387755102040817\n"
     ]
    }
   ],
   "source": [
    "y_prob_logistic = logistic_regression_model.predict_proba(X_test)[:, 1]\n",
    "y_prob_decision_tree = decision_tree_model.predict_proba(X_test)[:, 1]\n",
    "y_prob_knn = knn_model.predict_proba(X_test)[:, 1]\n",
    "\n",
    "y_pred_logistic = logistic_regression_model.predict(X_test)\n",
    "y_pred_decision_tree = decision_tree_model.predict(X_test)\n",
    "y_pred_knn = knn_model.predict(X_test)\n",
    "\n",
    "accuracy_logistic = accuracy_score(y_test, y_pred_logistic)\n",
    "accuracy_decision_tree = accuracy_score(y_test, y_pred_decision_tree)\n",
    "accuracy_knn = accuracy_score(y_test, y_pred_knn)\n",
    "\n",
    "roc_auc_logistic = roc_auc_score(y_test, y_prob_logistic)\n",
    "roc_auc_decision_tree = roc_auc_score(y_test, y_prob_decision_tree)\n",
    "roc_auc_knn = roc_auc_score(y_test, y_prob_knn)\n",
    "\n",
    "precision_logistic = precision_score(y_test, y_pred_logistic)\n",
    "precision_decision_tree = precision_score(y_test, y_pred_decision_tree)\n",
    "precision_knn = precision_score(y_test, y_pred_knn)\n",
    "\n",
    "recall_logistic = recall_score(y_test, y_pred_logistic)\n",
    "recall_decision_tree = recall_score(y_test, y_pred_decision_tree)\n",
    "recall_knn = recall_score(y_test, y_pred_knn)\n",
    "\n",
    "print(f'Accuracy of Logistic Regression: {accuracy_logistic}')\n",
    "print(f'Accuracy of Decision Tree: {accuracy_decision_tree}')\n",
    "print(f'Accuracy of K-Nearest Neighbors: {accuracy_knn}')\n",
    "\n",
    "print(f'ROC AUC of Logistic Regression: {roc_auc_logistic}')\n",
    "print(f'ROC AUC of Decision Tree: {roc_auc_decision_tree}')\n",
    "print(f'ROC AUC of K-Nearest Neighbors: {roc_auc_knn}')\n",
    "\n",
    "print(f'Precision of Logistic Regression: {precision_logistic}')\n",
    "print(f'Precision of Decision Tree: {precision_decision_tree}')\n",
    "print(f'Precision of K-Nearest Neighbors: {precision_knn}')\n",
    "\n",
    "print(f'Recall of Logistic Regression: {recall_logistic}')\n",
    "print(f'Recall of Decision Tree: {recall_decision_tree}')\n",
    "print(f'Recall of K-Nearest Neighbors: {recall_knn}')"
   ]
  },
  {
   "cell_type": "markdown",
   "id": "d2d6eb00-77fd-40dc-a3c5-35c1fe0200c0",
   "metadata": {},
   "source": [
    "## Экспериментируйте\n",
    "Для получения лучшего качества придется поэкспериментировать. Подсказка: попробуйте оптимизировать гиперпараметры модели"
   ]
  },
  {
   "cell_type": "code",
   "execution_count": null,
   "id": "92d947df",
   "metadata": {},
   "outputs": [],
   "source": []
  }
 ],
 "metadata": {
  "kernelspec": {
   "display_name": "Python 3 (ipykernel)",
   "language": "python",
   "name": "python3"
  },
  "language_info": {
   "codemirror_mode": {
    "name": "ipython",
    "version": 3
   },
   "file_extension": ".py",
   "mimetype": "text/x-python",
   "name": "python",
   "nbconvert_exporter": "python",
   "pygments_lexer": "ipython3",
   "version": "3.11.5"
  }
 },
 "nbformat": 4,
 "nbformat_minor": 5
}
