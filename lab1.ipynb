{
 "cells": [
  {
   "cell_type": "markdown",
   "metadata": {
    "id": "M-DGa20PaHnu"
   },
   "source": [
    "#Задача 1\n",
    "Написать функцию на вход которой подается строка, состоящая из латинских букв.\n",
    "Функция должна вернуть количество гласных букв (a, e, i, o, u) в этой строке. Написать тесты для кода"
   ]
  },
  {
   "cell_type": "code",
   "execution_count": 2,
   "metadata": {
    "id": "XvX8X_JJ6PCb"
   },
   "outputs": [
    {
     "name": "stdout",
     "output_type": "stream",
     "text": [
      "sssseeettt\n",
      "3\n"
     ]
    }
   ],
   "source": [
    "string = str(input())\n",
    "volwes = set(\"aoieu\")\n",
    "\n",
    "\n",
    "def vowel_counter(strings):\n",
    "    counter = 0\n",
    "    for i in strings:\n",
    "        if i in volwes:\n",
    "            counter += 1\n",
    "    return counter\n",
    "\n",
    "\n",
    "print(vowel_counter(string))"
   ]
  },
  {
   "cell_type": "markdown",
   "metadata": {
    "id": "t2ClV_Y0bbr6"
   },
   "source": [
    "# Задача 2\n",
    "Написать функцию на вход, которой подается строка. Функция должна вернуть true, если\n",
    "каждый символ в строке встречается только 1 раз, иначе должна вернуть false. Написать тесты для кода"
   ]
  },
  {
   "cell_type": "code",
   "execution_count": 4,
   "metadata": {
    "id": "FppbECao6VIz"
   },
   "outputs": [
    {
     "name": "stdout",
     "output_type": "stream",
     "text": [
      "Input word: reborn\n",
      "False\n"
     ]
    }
   ],
   "source": [
    "word = str(input(\"Input word: \"))\n",
    "\n",
    "\n",
    "def is_singe_symbol(string):\n",
    "    for i in string:\n",
    "        if string.count(i) > 1:\n",
    "            return False\n",
    "    return True\n",
    "\n",
    "\n",
    "print(is_singe_symbol(word))"
   ]
  },
  {
   "cell_type": "markdown",
   "metadata": {
    "id": "udRiIK1cdt6E"
   },
   "source": [
    "# Задача 3\n",
    "Написать функцию, которая принимает положительное число и возвращает количество\n",
    "бит равных 1 в этом числе. Написать тесты для кода"
   ]
  },
  {
   "cell_type": "code",
   "execution_count": 6,
   "metadata": {
    "id": "6tkfDJRz6dp_"
   },
   "outputs": [
    {
     "name": "stdout",
     "output_type": "stream",
     "text": [
      "Input number: 123\n",
      "6\n"
     ]
    }
   ],
   "source": [
    "number = int(input(\"Input number: \"))\n",
    "\n",
    "\n",
    "def bit_number(num):\n",
    "    if num >= 0:\n",
    "        bin_num = bin(num)[2:]\n",
    "        return bin_num.count(\"1\")\n",
    "\n",
    "\n",
    "print(bit_number(number))"
   ]
  },
  {
   "cell_type": "markdown",
   "metadata": {
    "id": "26dDUz-Ae17N"
   },
   "source": [
    "# Задача 4\n",
    "Написать функцию, которая принимает положительное число. Функция должна вернуть то,\n",
    "сколько раз необходимо перемножать цифры числа или результат перемножения, чтобы\n",
    "получилось число состоящее из одной цифры.\n",
    "Например, для входного числа:\n",
    "· 39 функция должна вернуть 3, так как 3*9=27 => 2*7=14 => 1*4=4\n",
    "· 4 функция должна вернуть 0, так как число уже состоит из одной цифры\n",
    "· 999 функция должна вернуть 4, так как 9*9*9=729 => 7*2*9=126 => 1*2*6=12 =>\n",
    "1*2=2. Написать тесты для кода"
   ]
  },
  {
   "cell_type": "code",
   "execution_count": 7,
   "metadata": {
    "id": "BH1A_Mgi6i4G"
   },
   "outputs": [
    {
     "name": "stdout",
     "output_type": "stream",
     "text": [
      "Input number: 777\n",
      "4\n"
     ]
    }
   ],
   "source": [
    "number = int(input(\"Input number: \"))\n",
    "\n",
    "\n",
    "def magic(num):\n",
    "    counter = 1\n",
    "    prod = 1\n",
    "    while num > 0:\n",
    "        remains = num % 10\n",
    "        prod = prod * remains\n",
    "        num = num // 10\n",
    "        counter += 1\n",
    "    return counter\n",
    "\n",
    "\n",
    "print(magic(number))"
   ]
  },
  {
   "cell_type": "markdown",
   "metadata": {
    "id": "0nS-kIa8g8vd"
   },
   "source": [
    "# Задача 5\n",
    "Написать функцию, которая принимает два целочисленных вектора одинаковой длины и\n",
    "возвращает среднеквадратическое отклонение двух векторов. Написать тесты для кода"
   ]
  },
  {
   "cell_type": "code",
   "execution_count": 9,
   "metadata": {
    "id": "8iphx4LM6xbx"
   },
   "outputs": [
    {
     "name": "stdout",
     "output_type": "stream",
     "text": [
      "Length v1: 2\n",
      "Length v2: 3\n",
      "0.5\n"
     ]
    }
   ],
   "source": [
    "from math import sqrt\n",
    "vector1 = int(input(\"Length v1: \"))\n",
    "vector2 = int(input(\"Length v2: \"))\n",
    "\n",
    "\n",
    "def average_deviation(v1, v2):\n",
    "    n = 2\n",
    "    x = (v1 + v2) / n\n",
    "    sigma = sqrt(((v1 - x) ** 2 + (v2 - x) ** 2)/n)\n",
    "    return sigma\n",
    "\n",
    "\n",
    "print(average_deviation(vector1, vector2))"
   ]
  },
  {
   "cell_type": "markdown",
   "metadata": {
    "id": "vpIPKL439zkw"
   },
   "source": [
    "# Задача 6\n",
    "Написать функцию, принимающая целое положительное число. Функция должна вернуть\n",
    "строку вида “(n1**p1)(n2**p2)…(nk**pk)” представляющая разложение числа на простые\n",
    "множители (если pi == 1, то выводить только ni).\n",
    "Например, для числа 86240 функция должна вернуть “(2**5)(5)(7**2)(11)”. Написать тесты для кода"
   ]
  },
  {
   "cell_type": "code",
   "execution_count": 19,
   "metadata": {
    "id": "pFebmcZk94Jw"
   },
   "outputs": [
    {
     "name": "stdout",
     "output_type": "stream",
     "text": [
      "Input number: 86240\n",
      "(25)(5)(72)(11)\n"
     ]
    }
   ],
   "source": [
    "def factorization(num):\n",
    "    massive = []\n",
    "    div = 2\n",
    "    while div * div <= num:\n",
    "        while num % div == 0:\n",
    "            massive.append(div)\n",
    "            num //= div\n",
    "        div += 1\n",
    "\n",
    "    if num > 1:\n",
    "        massive.append(num)\n",
    "\n",
    "    return massive\n",
    "\n",
    "\n",
    "number = int(input(\"Input number: \"))\n",
    "result = factorization(number)\n",
    "string = \"\"\n",
    "appended = []\n",
    "for i in result:\n",
    "    if i not in appended:\n",
    "        if result.count(i) != 1:\n",
    "            string += f\"({i}{result.count(i)})\"\n",
    "        else:\n",
    "            string += f\"({i})\"\n",
    "        appended.append(i)\n",
    "print(string)"
   ]
  },
  {
   "cell_type": "markdown",
   "metadata": {
    "id": "ps2s0BudX7A2"
   },
   "source": [
    "# Задача 7\n",
    "Написать функцию, принимающая целое число n, задающее количество кубиков. Функция\n",
    "должна определить, можно ли из данного кол-ва кубиков построить пирамиду, то есть\n",
    "можно ли представить число n как 1^2+2^2+3^2+…+k^2. Если можно, то функция должна\n",
    "вернуть k, иначе строку “It is impossible”. Написать тесты для кода"
   ]
  },
  {
   "cell_type": "code",
   "execution_count": 17,
   "metadata": {
    "id": "3YPjEXxhX_YT"
   },
   "outputs": [
    {
     "name": "stdout",
     "output_type": "stream",
     "text": [
      "Input cube's count: 25\n",
      "('It is impossible', 25, 14, [1, 2, 3])\n",
      "(3, 14, 14, [1, 2, 3])\n"
     ]
    }
   ],
   "source": [
    "def pyramid(num):\n",
    "    num1 = num\n",
    "    massive = []\n",
    "    div = 1\n",
    "    while div ** 2 <= num:\n",
    "        if (num - div ** 2) >= 0:\n",
    "            massive.append(div)\n",
    "            num -= div ** 2\n",
    "        div += 1\n",
    "\n",
    "    sum = 0\n",
    "    for i in massive:\n",
    "        sum += i**2\n",
    "    if sum < num1:\n",
    "        return \"It is impossible\", num1, sum, massive\n",
    "    elif sum == num1:\n",
    "        return massive[-1], num1, sum, massive\n",
    "\n",
    "\n",
    "cubes = int(input(\"Input cube's count: \"))\n",
    "result = pyramid(cubes)\n",
    "print(result)\n",
    "print(pyramid(14)) #3"
   ]
  },
  {
   "cell_type": "markdown",
   "metadata": {
    "id": "KeKgmIdAQMEJ"
   },
   "source": [
    "# Задача 8\n",
    "Функция принимает на вход положительное число и определяет является ли оно сбалансированным, т.е. сумма цифр до средних равна сумме цифр после. Средними в случае нечетного числа цифр считать одну цифру, в случае четного - две средних. Написать тесты для кода"
   ]
  },
  {
   "cell_type": "code",
   "execution_count": 24,
   "metadata": {
    "id": "gMAAqtqlQrZt"
   },
   "outputs": [
    {
     "name": "stdout",
     "output_type": "stream",
     "text": [
      "True\n",
      "False\n",
      "True\n",
      "False\n",
      "False\n"
     ]
    }
   ],
   "source": [
    "def is_balanced_number(num):\n",
    "    # Преобразуем число в строку и разделяем цифры\n",
    "    digits = list(str(num))\n",
    "    \n",
    "    # Получаем количество цифр и определяем индексы средних цифр\n",
    "    num_digits = len(digits)\n",
    "    middle_index = num_digits // 2\n",
    "    if num_digits % 2 == 0:  # Четное количество цифр\n",
    "        middle_index -= 1\n",
    "    \n",
    "    # Суммируем цифры до и после средних\n",
    "    sum_before = sum(map(int, digits[:middle_index]))\n",
    "    sum_after = sum(map(int, digits[middle_index+1:]))\n",
    "    \n",
    "    # Проверяем равенство сумм\n",
    "    if sum_before == sum_after:\n",
    "        return True\n",
    "    else:\n",
    "        return False\n",
    "\n",
    "# Тесты\n",
    "print(is_balanced_number(12321))  # True\n",
    "print(is_balanced_number(123456))  # False\n",
    "print(is_balanced_number(32332))  # True\n",
    "print(is_balanced_number(111222333))  # False\n",
    "print(is_balanced_number(1221))  # True"
   ]
  },
  {
   "cell_type": "code",
   "execution_count": null,
   "metadata": {},
   "outputs": [],
   "source": []
  }
 ],
 "metadata": {
  "colab": {
   "provenance": []
  },
  "kernelspec": {
   "display_name": "Python 3 (ipykernel)",
   "language": "python",
   "name": "python3"
  },
  "language_info": {
   "codemirror_mode": {
    "name": "ipython",
    "version": 3
   },
   "file_extension": ".py",
   "mimetype": "text/x-python",
   "name": "python",
   "nbconvert_exporter": "python",
   "pygments_lexer": "ipython3",
   "version": "3.11.5"
  }
 },
 "nbformat": 4,
 "nbformat_minor": 1
}
