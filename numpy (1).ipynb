{
  "cells": [
    {
      "cell_type": "markdown",
      "metadata": {
        "id": "vC84e9kzyxPy"
      },
      "source": [
        "<h1>Импорт библиотек"
      ]
    },
    {
      "cell_type": "code",
      "execution_count": 3,
      "metadata": {
        "id": "cgKeNegmQG5S"
      },
      "outputs": [],
      "source": [
        "import numpy as np\n",
        "import matplotlib.pyplot as plt"
      ]
    },
    {
      "cell_type": "markdown",
      "metadata": {
        "id": "qFM9uVU2x4Ls"
      },
      "source": [
        "<h1>Задача 1. Дан набор из $p$ матриц размерностью $(n, n)$ и $p$ векторов размерностью $(n, 1)$, найти сумму произведений матриц на векторы. Написать тесты для кода"
      ]
    },
    {
      "cell_type": "code",
      "execution_count": null,
      "metadata": {
        "id": "IAbUvEiYyWFF"
      },
      "outputs": [],
      "source": [
        "import numpy as np\n",
        "import matplotlib.pyplot as plt\n",
        "\n",
        "\n",
        "def sum_prod(X, V):\n",
        "    result = np.tensordot(X, V, axes=[[0, 2], [0, 1]])\n",
        "    return result\n",
        "\n",
        "\n",
        "p, n = 3, 3\n",
        "x = np.ones((p, n, n))\n",
        "v = np.ones((p, n, 1))\n",
        "print(sum_prod(x, v))\n"
      ]
    },
    {
      "cell_type": "markdown",
      "metadata": {
        "id": "TKwPG4fIy2w4"
      },
      "source": [
        "<h1>Задача 2. Дана матрица M, напишите функцию, которая бинаризует матрицу по некоторому threshold (то есть, все значения большие threshold становятся равными 1, иначе 0). Напишите тесты для кода"
      ]
    },
    {
      "cell_type": "code",
      "execution_count": null,
      "metadata": {
        "id": "KQDNMgsjRNH7"
      },
      "outputs": [],
      "source": [
        "import numpy as np\n",
        "import matplotlib.pyplot as plt\n",
        "\n",
        "\n",
        "def binarize(M, threshold=0.5):\n",
        "    M = np.where(M > threshold, 1, 0)\n",
        "    return M\n",
        "\n",
        "\n",
        "i = 3\n",
        "j = 3\n",
        "m = np.array([[1, 2, 0.5], [0.4, 5, 0.2]])\n",
        "\n",
        "print(binarize(m))\n"
      ]
    },
    {
      "cell_type": "markdown",
      "metadata": {
        "id": "IY5L-h-7zWhN"
      },
      "source": [
        "<h1>Задача 3. Напишите функцию, которая возвращает уникальные элементы из каждой строки матрицы. Напишите такую же функцию, но для столбцов. Напишите тесты для кода"
      ]
    },
    {
      "cell_type": "code",
      "execution_count": null,
      "metadata": {
        "id": "-8dEZhR0SBC-"
      },
      "outputs": [],
      "source": [
        "import numpy as np\n",
        "import matplotlib.pyplot as plt\n",
        "\n",
        "\n",
        "def unique_rows(mat):\n",
        "    a = np.unique(mat, axis=0)\n",
        "    return a\n",
        "\n",
        "\n",
        "def unique_columns(mat):\n",
        "    a = np.unique(mat, axis=1)\n",
        "    return a\n",
        "\n",
        "\n",
        "m = np.array([[1, 8, 0], [0, 0, 4], [1, 8, 0]])\n",
        "\n",
        "print(unique_rows(m))\n",
        "print(\"edededededede\")\n",
        "print(unique_columns(m))\n"
      ]
    },
    {
      "cell_type": "markdown",
      "metadata": {
        "id": "roYAlo4Jz-lH"
      },
      "source": [
        "<h1>Задача 4. Напишите функцию, которая заполняет матрицу с размерами $(m, n)$ случайными числами, распределенными по нормальному закону. Затем считает мат. ожидание и дисперсию для каждого из столбцов и строк, а также строит для каждой строки и столбца гистограмму значений (использовать функцию hist из модуля matplotlib.plot)"
      ]
    },
    {
      "cell_type": "code",
      "execution_count": null,
      "metadata": {
        "id": "nZK_71hMSQzv"
      },
      "outputs": [],
      "source": [
        "import numpy as np\n",
        "import matplotlib.pyplot as plt\n",
        "\n",
        "\n",
        "def normal_math(mat):\n",
        "    mat_mean_row = np.mean(mat, axis=0)\n",
        "    mat_var_row = np.var(mat, axis=0)\n",
        "    mat_mean_col = np.mean(mat, axis=1)\n",
        "    mat_var_col = np.var(mat, axis=1)\n",
        "\n",
        "    plt.hist(mat_mean_row, color=\"red\")\n",
        "    plt.hist(mat_var_row, color=\"green\")\n",
        "    plt.hist(mat_mean_col, color=\"blue\")\n",
        "    plt.hist(mat_var_col, color=\"black\")\n",
        "    plt.title(\"Mean and var histogram\", fontsize=5, fontname=\"Times New Roman\")\n",
        "    plt.xlabel(\"X-axis\", color=\"blue\")\n",
        "    plt.ylabel(\"Y-axis\", color=\"blue\")\n",
        "    plt.show()\n",
        "\n",
        "\n",
        "a = np.random.normal(size=(3, 4))\n",
        "print(normal_math(a))\n"
      ]
    },
    {
      "cell_type": "markdown",
      "metadata": {
        "id": "BDyATNdM0dJ2"
      },
      "source": [
        "<h1>Задача 5. Напишите функцию, которая заполняет матрицу $(m, n)$ в шахматном порядке заданными числами $a$ и $b$. Напишите тесты для кода"
      ]
    },
    {
      "cell_type": "code",
      "execution_count": null,
      "metadata": {
        "id": "RWNJYWQGecS6"
      },
      "outputs": [],
      "source": [
        "import numpy as np\n",
        "import matplotlib.pyplot as plt\n",
        "\n",
        "\n",
        "def chess(m, n, a, b):\n",
        "    x = np.zeros((m, n), dtype=int)\n",
        "    x[1::2, ::2] = a\n",
        "    x[0::2, ::2] = b\n",
        "    x[::2, 1::2] = a\n",
        "    x[1::2, 1::2] = b\n",
        "    return x\n",
        "\n",
        "\n",
        "print(chess(5, 5, 2, 4))\n"
      ]
    },
    {
      "cell_type": "markdown",
      "metadata": {
        "id": "-ymXLtTN0vB6"
      },
      "source": [
        "<h1>Задача 6. Напишите функцию, которая отрисовывает прямоугольник с заданными размерами (a, b) на изображении размера (m, n), цвет фона задайте в схеме RGB, как и цвет прямоугольника. Цвета также должны быть параметрами функции. Напишите аналогичную функцию но для овала с полуосями a и b. Напишите тесты для кода.\n",
        "Примечание: уравнение эллипса (границы овала) можно записать как:\n",
        "<h1>$\\frac{(x-x_0)^2}{a^2}+\\frac{(y-y_0)^2}{b^2}=1$"
      ]
    },
    {
      "cell_type": "code",
      "execution_count": 1,
      "metadata": {
        "id": "sNfl1t_kfOF4"
      },
      "outputs": [],
      "source": [
        "import matplotlib.patches as patches\n",
        "import matplotlib.pyplot as plt\n",
        "\n",
        "\n",
        "def draw_rectangle(a, b, m, n, rectangle_color, background_color):\n",
        "    ax = plt.axes()\n",
        "    ax.set_facecolor(background_color)\n",
        "    plt.xlim([0, m])\n",
        "    plt.ylim([0, n])\n",
        "    rectangle = patches.Rectangle(xy=(1, 1), width=a, height=b, color=rectangle_color)\n",
        "    ax.add_patch(rectangle)\n",
        "    plt.show()\n",
        "    \n",
        "    \n",
        "def draw_ellipse(a, b, m, n, ellipse_color, background_color):\n",
        "    ax = plt.axes()\n",
        "    ax.set_facecolor(background_color)\n",
        "    plt.xlim([0, m])\n",
        "    plt.ylim([0, n])\n",
        "    rectangle = patches.Ellipse(xy=(m/2, n/2), width=a, height=b, color=ellipse_color)\n",
        "    ax.add_patch(rectangle)\n",
        "    plt.show()\n",
        "\n",
        "\n",
        "draw_rectangle(3, 3, 5, 5, \"red\", \"blue\")\n",
        "draw_ellipse(3, 3, 5, 5, \"yellow\", \"green\")\n"
      ]
    },
    {
      "cell_type": "markdown",
      "metadata": {
        "id": "S82c38oz244H"
      },
      "source": [
        "<h1>Задача 7. Дан некий временной ряд. Для данного ряда нужно найти его: математическое ожидание, дисперсию, СКО, найти все локальные максимумы и минимумы (локальный максимум - это точка, которая больше своих соседних точек, а локальный минимум - это точка, которая меньше своих соседей), а также вычислить для данного ряда другой ряд, получаемый методом скользящего среднего с размером окна $p$.\n",
        "<h1>Примечание: метод скользящего среднего подразумевает нахождение среднего из подмножетсва ряда размером $p$"
      ]
    },
    {
      "cell_type": "code",
      "execution_count": null,
      "metadata": {
        "id": "Zb9mIVge5MMt"
      },
      "outputs": [],
      "source": [
        "import pandas as pd\n",
        "import numpy as np\n",
        "import matplotlib.pyplot as plt\n",
        "from scipy.signal import argrelextrema\n",
        "\n",
        "passengers = pd.read_csv(\"C:/Users/Dich/Downloads/passengers.csv\")\n",
        "passengers.set_index('Month', inplace = True)\n",
        "passengers.index = pd.to_datetime(passengers.index)\n",
        "passengers.head()\n",
        "\n",
        "passeng = passengers[\"#Passengers\"]\n",
        "average_data = passeng.mean()\n",
        "var_data = np.var(passeng)\n",
        "std_data = np.std(passeng)\n",
        "print(average_data)\n",
        "print(var_data)\n",
        "print(std_data)\n",
        "\n",
        "local_maxima = passengers.iloc[argrelextrema(passengers['#Passengers'].values, np.greater)]\n",
        "local_minima = passengers.iloc[argrelextrema(passengers['#Passengers'].values, np.less)]\n",
        "print(local_maxima, local_minima)\n",
        "p = int(input(\"Input p: \"))\n",
        "passengers[\"#Passengers\"].rolling(window = p).mean().head()\n"
      ]
    },
    {
      "cell_type": "markdown",
      "metadata": {
        "id": "jPkylmOX5O9n"
      },
      "source": [
        "<h1> Задача 8. Дан некоторый вектор с целочисленными метками классов, напишите функцию, которая выполняет one-hot-encoding для данного вектора\n",
        "<h1> One-hot-encoding - представление, в котором на месте метки некоторого класса стоит 1, в остальных позициях стоит 0. Например для вектора [0, 2, 3, 0] one-hot-encoding выглядит как: [[1, 0, 0, 0], [0, 0, 1, 0], [0, 0, 0, 1], [1, 0, 0, 0]]"
      ]
    },
    {
      "cell_type": "code",
      "execution_count": null,
      "metadata": {
        "id": "Y-jlnZvw56lD"
      },
      "outputs": [],
      "source": [
        "import numpy as np\n",
        "import matplotlib.pyplot as plt \n",
        "\n",
        "vector = [0, 2, 3, 0]\n",
        "\n",
        "\n",
        "def one_hot_encoder(v):\n",
        "    l = len(v)\n",
        "    cord_x = [i for i in range(l)]\n",
        "    cord_y = v\n",
        "    cords = (cord_x, cord_y)\n",
        "    array = np.zeros((l, l))\n",
        "    array[cords] = 1\n",
        "    np.set_printoptions(linewidth=np.inf)\n",
        "    return array.tolist()\n",
        "\n",
        "\n",
        "print(one_hot_encoder(vector))\n"
      ]
    }
  ],
  "metadata": {
    "colab": {
      "provenance": []
    },
    "kernelspec": {
      "display_name": "Python 3",
      "name": "python3"
    },
    "language_info": {
      "name": "python"
    }
  },
  "nbformat": 4,
  "nbformat_minor": 0
}
